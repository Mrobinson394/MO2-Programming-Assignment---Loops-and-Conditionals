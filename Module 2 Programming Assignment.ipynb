{
 "cells": [
  {
   "cell_type": "code",
   "execution_count": null,
   "id": "6023fdbd-2cff-4160-84f7-c2762bbad3d8",
   "metadata": {},
   "outputs": [],
   "source": [
    "### 4.1 Guessing Game with Conditional Tests\n",
    "Choose a number between 1 and 10 and assign it to the variable `secret`. Then, select another number between 1 and 10 and assign it to the variable `guess`. Next, write the conditional tests (`if`, `else`, and `elif`) to print the string 'too low' if `guess` is less than `secret`, 'too high' if greater than `secret`, and 'just right' if equal to `secret`.\n"
   ]
  },
  {
   "cell_type": "code",
   "execution_count": null,
   "id": "bf2832f6-0c3b-44cc-b3a0-c77b0559ee2c",
   "metadata": {},
   "outputs": [],
   "source": [
    "# 4.1 Assign values to variables\n",
    "secret = 7\n",
    "guess = 5\n",
    "\n",
    "# Conditional statements to check the guess\n",
    "if guess < secret:\n",
    "    print('too low')\n",
    "elif guess > secret:\n",
    "    print('too high')\n",
    "else:\n",
    "    print('just right')\n"
   ]
  },
  {
   "cell_type": "code",
   "execution_count": null,
   "id": "1b9a303a-7231-429a-afbf-cdf3dad7edf7",
   "metadata": {},
   "outputs": [],
   "source": [
    "### 4.2 Matching Fruits and Vegetables\n",
    "Assign True or False to the variables `small` and `green`. Write some `if/else` statements to print which of these matches those choices: cherry, pea, watermelon, pumpkin.\n"
   ]
  },
  {
   "cell_type": "code",
   "execution_count": null,
   "id": "f7fa4374-7d24-46d0-8d3c-63e409d1fb1b",
   "metadata": {},
   "outputs": [],
   "source": [
    "# 4.2 Assign boolean values to variables\n",
    "small = True\n",
    "green = True\n",
    "\n",
    "# Conditional statements to determine the matching fruit or vegetable\n",
    "if small and green:\n",
    "    print('pea')\n",
    "elif small and not green:\n",
    "    print('cherry')\n",
    "elif not small and green:\n",
    "    print('watermelon')\n",
    "else:\n",
    "    print('pumpkin')\n"
   ]
  },
  {
   "cell_type": "code",
   "execution_count": null,
   "id": "d5b67a55-b285-43eb-8edc-e80b94848cdf",
   "metadata": {},
   "outputs": [],
   "source": [
    "### 6.1 Print List Values with a For Loop\n",
    "Use a for loop to print the values of the list `[3, 2, 1, 0]`.\n"
   ]
  },
  {
   "cell_type": "code",
   "execution_count": null,
   "id": "21163267-fc3d-43cf-8043-68fbb54d224d",
   "metadata": {},
   "outputs": [],
   "source": [
    "# 6.1 For loop to print each value in the list\n",
    "for value in [3, 2, 1, 0]:\n",
    "    print(value)\n"
   ]
  },
  {
   "cell_type": "code",
   "execution_count": null,
   "id": "d797188a-d8e1-4efb-86a1-ba00dde6d92b",
   "metadata": {},
   "outputs": [],
   "source": [
    "### 6.2 While Loop to Compare Values\n",
    "Assign the value 7 to the variable `guess_me`, and the value 1 to the variable `number`. Write a while loop that compares `number` with `guess_me`. Print 'too low' if `number` is less than `guess_me`. If `number` equals `guess_me`, print 'found it!' and then exit the loop. If `number` is greater than `guess_me`, print 'oops' and then exit the loop. Increment `number` at the end of the loop.\n"
   ]
  },
  {
   "cell_type": "code",
   "execution_count": null,
   "id": "360e1475-077b-404f-b076-c79dfce0cf8f",
   "metadata": {},
   "outputs": [],
   "source": [
    "# 6.2 Assign initial values to variables\n",
    "guess_me = 7\n",
    "number = 1\n",
    "\n",
    "# While loop with conditional checks\n",
    "while True:\n",
    "    if number < guess_me:\n",
    "        print('too low')\n",
    "    elif number == guess_me:\n",
    "        print('found it!')\n",
    "        break\n",
    "    else:\n",
    "        print('oops')\n",
    "        break\n",
    "    number += 1\n"
   ]
  },
  {
   "cell_type": "code",
   "execution_count": null,
   "id": "009d8ddc-ebab-4dfb-9b91-c7a5a9252e60",
   "metadata": {},
   "outputs": [],
   "source": [
    "### 6.3 For Loop with Range and Conditional Break\n",
    "Assign the value 5 to the variable `guess_me`. Use a for loop to iterate a variable called `number` over `range(10)`. If `number` is less than `guess_me`, print 'too low'. If it equals `guess_me`, print 'found it!' and then break out of the for loop. If `number` is greater than `guess_me`, print 'oops' and then exit the loop.\n"
   ]
  },
  {
   "cell_type": "code",
   "execution_count": null,
   "id": "f6bb2538-e223-4ae3-9381-5a81c8f58d73",
   "metadata": {},
   "outputs": [],
   "source": [
    "# 6.3 Assign value to variable\n",
    "guess_me = 5\n",
    "\n",
    "# For loop with conditional statements and a break\n",
    "for number in range(10):\n",
    "    if number < guess_me:\n",
    "        print('too low')\n",
    "    elif number == guess_me:\n",
    "        print('found it!')\n",
    "        break\n",
    "    else:\n",
    "        print('oops')\n",
    "        break\n"
   ]
  }
 ],
 "metadata": {
  "kernelspec": {
   "display_name": "Python 3 (ipykernel)",
   "language": "python",
   "name": "python3"
  },
  "language_info": {
   "codemirror_mode": {
    "name": "ipython",
    "version": 3
   },
   "file_extension": ".py",
   "mimetype": "text/x-python",
   "name": "python",
   "nbconvert_exporter": "python",
   "pygments_lexer": "ipython3",
   "version": "3.12.4"
  }
 },
 "nbformat": 4,
 "nbformat_minor": 5
}
